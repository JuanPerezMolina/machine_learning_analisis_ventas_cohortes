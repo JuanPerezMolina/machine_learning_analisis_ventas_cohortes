{
 "cells": [
  {
   "cell_type": "markdown",
   "metadata": {},
   "source": [
    "<h1>Construir tablero de cohortes y Ltv con filtro por categoría</h1>"
   ]
  },
  {
   "cell_type": "markdown",
   "metadata": {},
   "source": [
    "El proyecto consiste en usar zoho analytics para hacer calculos y transformación de datos con el fin obtener los siguientes datos\n",
    "1. Analisis de cohortes con filtro por categoría (habiendo 8 categorías o tipos de clientes)\n",
    "2. Calcluar el promedio de deserción por categoría de cliente\n",
    "3. Calcular el LTV usando el dato de la columna revenue y calculando la tasa de retención segun el analisis de cohortes\n"
   ]
  },
  {
   "cell_type": "markdown",
   "metadata": {},
   "source": [
    "<h1> Procedimientos</h1>"
   ]
  },
  {
   "cell_type": "markdown",
   "metadata": {},
   "source": [
    "1. Preparar el entorno de desarrollo en el cuaderno de Jupiter para Google Colab\n",
    "2. Importar bibliotecas de los métodos a utilizar\n",
    "3. Carga de dataset en DataFrames\n",
    "4. Análisis Exploratorio de Datos EDA\n",
    "    - Cantidad de filas y variables\n",
    "    - Vista aleatoria de cinco filas\n",
    "    - Nombres de las variables\n",
    "    - Tipos de las variables\n",
    "    - Filas duplicadas\n",
    "    - Variables con valores faltantes\n",
    "    - Variables con valores atípicos (outliers) ó valores extremos\n",
    "5. Preprocesamiento:\n",
    "    - Seleccionar variables significativas (Feactures)\n",
    "    - Tratamiento de variables con valores faltantes\n",
    "    - Tratamiento de datos extremos y datos atípicos\n",
    "6. Transformaciones\n",
    "    - Convertir formato de decimales\n",
    "    - Convertir formato de fecha\n",
    "7. Construir DataFrame cohortes_df\n",
    "8. Construir DataFrame desercion_df\n",
    "9. Construir DataFrame metricas_df"
   ]
  },
  {
   "cell_type": "markdown",
   "metadata": {},
   "source": [
    "### **1. Preparar el entorno de desarrollo en el cuaderno de Jupiter para Google Colab**"
   ]
  },
  {
   "cell_type": "markdown",
   "metadata": {},
   "source": [
    "Agregar aqui el código"
   ]
  },
  {
   "cell_type": "markdown",
   "metadata": {},
   "source": [
    "### **2. Importar bibliotecas de los métodos a utilizar**"
   ]
  },
  {
   "cell_type": "markdown",
   "metadata": {},
   "source": [
    "Agregar aqui el código"
   ]
  },
  {
   "cell_type": "markdown",
   "metadata": {},
   "source": [
    "### **3. Carga de dataset en DataFrames**"
   ]
  },
  {
   "cell_type": "markdown",
   "metadata": {},
   "source": [
    "Agregar aqui el código"
   ]
  },
  {
   "cell_type": "markdown",
   "metadata": {},
   "source": [
    "### **4. Análisis Exploratorio de Datos EDA**"
   ]
  },
  {
   "cell_type": "markdown",
   "metadata": {},
   "source": [
    "Agregar aqui el código"
   ]
  },
  {
   "cell_type": "markdown",
   "metadata": {},
   "source": [
    "### **5. Preprocesamiento**"
   ]
  },
  {
   "cell_type": "markdown",
   "metadata": {},
   "source": [
    "**Seleccionar variables significativas (Feactures)**"
   ]
  },
  {
   "cell_type": "markdown",
   "metadata": {},
   "source": [
    "**Tratamiento de variables con valores faltantes**"
   ]
  },
  {
   "cell_type": "markdown",
   "metadata": {},
   "source": [
    "**Tratamiento de datos extremos y datos atípicos**"
   ]
  },
  {
   "cell_type": "markdown",
   "metadata": {},
   "source": [
    "### **6. Transformaciónes**"
   ]
  },
  {
   "cell_type": "markdown",
   "metadata": {},
   "source": [
    "**Convertir formato de decimales**"
   ]
  },
  {
   "cell_type": "markdown",
   "metadata": {},
   "source": [
    "**Convertir formato de fecha**"
   ]
  },
  {
   "cell_type": "markdown",
   "metadata": {},
   "source": [
    "### **7. Construir DataFrame cohortes_df**"
   ]
  },
  {
   "cell_type": "markdown",
   "metadata": {},
   "source": [
    "**Convertir formato de decimales**"
   ]
  },
  {
   "cell_type": "markdown",
   "metadata": {},
   "source": [
    "### **8. Construir DataFrame desercion_df**"
   ]
  },
  {
   "cell_type": "markdown",
   "metadata": {},
   "source": [
    "**Convertir formato de decimales**"
   ]
  },
  {
   "cell_type": "markdown",
   "metadata": {},
   "source": [
    "**Convertir formato de fecha**"
   ]
  },
  {
   "cell_type": "markdown",
   "metadata": {},
   "source": [
    "### **9. Construir DataFrame metricas_df**"
   ]
  },
  {
   "cell_type": "markdown",
   "metadata": {},
   "source": [
    "**Convertir formato de decimales**"
   ]
  },
  {
   "cell_type": "markdown",
   "metadata": {},
   "source": [
    "**Convertir formato de fecha**"
   ]
  }
 ],
 "metadata": {
  "language_info": {
   "name": "python"
  }
 },
 "nbformat": 4,
 "nbformat_minor": 2
}
